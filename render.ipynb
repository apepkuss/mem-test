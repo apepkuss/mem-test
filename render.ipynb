{
 "cells": [
  {
   "cell_type": "code",
   "execution_count": null,
   "metadata": {},
   "outputs": [],
   "source": [
    "import pandas as pd\n",
    "import matplotlib.pyplot as plt"
   ]
  },
  {
   "cell_type": "code",
   "execution_count": null,
   "metadata": {},
   "outputs": [],
   "source": [
    "def run(stats_file=\"mem-stats.txt\"):\n",
    "    with open(stats_file, \"r\") as f:\n",
    "        lines = f.readlines()\n",
    "    data = [line.strip().split(\" \") for line in lines[1::2]]\n",
    "    data = [[float(d[0]), float(d[-1]) / 100000] for d in data]\n",
    "    \n",
    "    df = pd.DataFrame(data, columns=[\"%MEM\", \"RSS(killobytes)\"])\n",
    "\n",
    "    return df\n",
    "\n",
    "df = run()\n",
    "print(f\"The number of records: {len(df)}\")\n"
   ]
  },
  {
   "cell_type": "code",
   "execution_count": null,
   "metadata": {},
   "outputs": [],
   "source": [
    "x_axis = \"Run (macos-m1-rust)\"\n",
    "\n",
    "df[x_axis] = pd.Series(list(range(len(df))))\n",
    "\n",
    "# draw %MEM\n",
    "df.plot(x=x_axis, y=\"%MEM\")\n",
    "\n",
    "# draw RSS\n",
    "df.plot(x=x_axis, y=\"RSS(killobytes)\")"
   ]
  }
 ],
 "metadata": {
  "kernelspec": {
   "display_name": "base",
   "language": "python",
   "name": "python3"
  },
  "language_info": {
   "codemirror_mode": {
    "name": "ipython",
    "version": 3
   },
   "file_extension": ".py",
   "mimetype": "text/x-python",
   "name": "python",
   "nbconvert_exporter": "python",
   "pygments_lexer": "ipython3",
   "version": "3.10.9"
  },
  "orig_nbformat": 4
 },
 "nbformat": 4,
 "nbformat_minor": 2
}
